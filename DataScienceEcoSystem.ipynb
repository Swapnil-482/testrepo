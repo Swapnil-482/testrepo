{
 "cells": [
  {
   "cell_type": "markdown",
   "id": "f776018e-4c90-402e-a491-69e2bfa4f135",
   "metadata": {},
   "source": [
    "Data Science Tools and Ecosystem"
   ]
  },
  {
   "cell_type": "markdown",
   "id": "c6f704fa-2aa3-4b35-b8ec-132e68556830",
   "metadata": {},
   "source": [
    "In this notebook, Data Science Tools and Ecosystem are summarized."
   ]
  },
  {
   "cell_type": "markdown",
   "id": "16fd5225-6575-46f4-a168-a9beafe215b6",
   "metadata": {},
   "source": [
    "Some of the popular languages that Data Scientists use are:\n",
    "\n",
    "    1 Python\n",
    "    2 R\n",
    "    3 Java"
   ]
  },
  {
   "cell_type": "markdown",
   "id": "d73eb17c-e3af-4a9f-9a24-f02d36847bda",
   "metadata": {},
   "source": [
    "Some of the commonly used libraries used by Data Scientists include:\n",
    "\n",
    "1 Pandas\n",
    "2 NumPy\n",
    "3 MatplotLib"
   ]
  },
  {
   "cell_type": "markdown",
   "id": "cef5ee22-faa8-4687-b693-fb45218c171b",
   "metadata": {},
   "source": [
    "| Data Scince Tools |\n",
    "|-------------------|\n",
    "| Tensorflow |\n",
    "| Apache Spark |\n",
    "| Tableau |"
   ]
  },
  {
   "cell_type": "markdown",
   "id": "6b4d7296-ec45-4a20-b597-5e207f5d7bcb",
   "metadata": {},
   "source": [
    "### Below are a few examples of evaluating arithmetic expressions in Python."
   ]
  },
  {
   "cell_type": "code",
   "execution_count": 1,
   "id": "399d7d99-3bc1-4ae8-aaf0-999a4c845141",
   "metadata": {},
   "outputs": [
    {
     "data": {
      "text/plain": [
       "17"
      ]
     },
     "execution_count": 1,
     "metadata": {},
     "output_type": "execute_result"
    }
   ],
   "source": [
    "# Insert a comment line before the expression to explain the operation e.g.  This a simple arithmetic expression to mutiply then add integers.\n",
    "\n",
    "(3*4)+5"
   ]
  },
  {
   "cell_type": "code",
   "execution_count": 2,
   "id": "79fff9ff-0a48-406d-aac9-0e9c1d099025",
   "metadata": {},
   "outputs": [
    {
     "data": {
      "text/plain": [
       "3.3333333333333335"
      ]
     },
     "execution_count": 2,
     "metadata": {},
     "output_type": "execute_result"
    }
   ],
   "source": [
    "#  This will convert 200 minutes to hours by diving by 60\n",
    "\n",
    "200/60"
   ]
  },
  {
   "cell_type": "markdown",
   "id": "d6da762f-e8f8-436a-8e7a-4afc68402c4f",
   "metadata": {},
   "source": [
    "_Objectives :_\n",
    "* Python\n",
    "* SQL\n",
    "* Julia\n",
    "* Java\n",
    "* Scala"
   ]
  },
  {
   "cell_type": "markdown",
   "id": "179db522-36a8-4ba5-b91e-4587f5d2bd80",
   "metadata": {},
   "source": [
    "## Author\n",
    "## Swapnil"
   ]
  },
  {
   "cell_type": "code",
   "execution_count": null,
   "id": "2ad18957-e222-4aee-9425-2f8eb2b9d38d",
   "metadata": {},
   "outputs": [],
   "source": []
  }
 ],
 "metadata": {
  "kernelspec": {
   "display_name": "Python",
   "language": "python",
   "name": "conda-env-python-py"
  },
  "language_info": {
   "codemirror_mode": {
    "name": "ipython",
    "version": 3
   },
   "file_extension": ".py",
   "mimetype": "text/x-python",
   "name": "python",
   "nbconvert_exporter": "python",
   "pygments_lexer": "ipython3",
   "version": "3.7.12"
  }
 },
 "nbformat": 4,
 "nbformat_minor": 5
}
